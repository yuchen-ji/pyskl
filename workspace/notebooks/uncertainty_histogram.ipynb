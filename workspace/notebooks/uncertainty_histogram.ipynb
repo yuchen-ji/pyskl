{
 "cells": [
  {
   "cell_type": "code",
   "execution_count": 3,
   "id": "42c6f925",
   "metadata": {},
   "outputs": [],
   "source": [
    "import numpy as np\n",
    "import pickle as pk\n",
    "import json\n",
    "import seaborn as sns\n",
    "import matplotlib.pyplot as plt"
   ]
  },
  {
   "cell_type": "code",
   "execution_count": 2,
   "id": "63c76d13",
   "metadata": {},
   "outputs": [
    {
     "name": "stdout",
     "output_type": "stream",
     "text": [
      "dict_keys(['predictions', 'uncertainties'])\n"
     ]
    }
   ],
   "source": [
    "with open('/workspaces/pyskl/demo/results/long_view2_uncertainty.pkl', 'rb') as f:\n",
    "    context = pk.load(f)\n",
    "print(context.keys())"
   ]
  },
  {
   "cell_type": "code",
   "execution_count": 30,
   "id": "1d93fb9e",
   "metadata": {
    "scrolled": true
   },
   "outputs": [
    {
     "data": {
      "image/png": "[encoded data removed]",
      "text/plain": [
       "<Figure size 1000x200 with 1 Axes>"
      ]
     },
     "metadata": {},
     "output_type": "display_data"
    }
   ],
   "source": [
    "iters = [it for it in range(len(context['uncertainties']))]\n",
    "uncertainties = np.array(context['uncertainties'])\n",
    "\n",
    "plt.figure(figsize=(10, 2))\n",
    "sns.set(style=\"white\", font_scale=0.9)\n",
    "sns.set_color_codes(palette='bright')\n",
    "# plt.yscale('log')\n",
    "# plt.xticks([])\n",
    "plt.yticks([])\n",
    "sns.despine(left=False, right=True, top=True, bottom=False)\n",
    "\n",
    "# 使用barplot绘制柱状图\n",
    "sns.barplot(x=iters[205:235], y=uncertainties[205:235], color=\"b\")\n",
    "\n",
    "plt.axhline(y=0.1, color='red', linestyle='--')\n",
    "\n",
    "# 显示图表\n",
    "# plt.show()\n",
    "plt.savefig('/workspaces/pyskl/workspace/notebooks/long_horizon_sliding.svg', bbox_inches = 'tight')"
   ]
  },
  {
   "cell_type": "code",
   "execution_count": null,
   "id": "327b16d4",
   "metadata": {},
   "outputs": [],
   "source": []
  },
  {
   "cell_type": "code",
   "execution_count": 32,
   "id": "d41f9cb2",
   "metadata": {},
   "outputs": [
    {
     "name": "stdout",
     "output_type": "stream",
     "text": [
      "dict_keys(['action', 'predictions', 'uncertainties'])\n"
     ]
    }
   ],
   "source": [
    "with open('/workspaces/pyskl/demo/results/long_view2_uncertainty.pkl', 'rb') as f:\n",
    "    context = pk.load(f)\n",
    "print(context.keys())"
   ]
  },
  {
   "cell_type": "code",
   "execution_count": 33,
   "id": "0458423e",
   "metadata": {},
   "outputs": [
    {
     "name": "stdout",
     "output_type": "stream",
     "text": [
      "461\n",
      "461\n",
      "461\n"
     ]
    }
   ],
   "source": [
    "print(len(context['action']))\n",
    "print(len(context['predictions']))\n",
    "print(len(context['uncertainties']))"
   ]
  },
  {
   "cell_type": "code",
   "execution_count": 61,
   "id": "154c4f77",
   "metadata": {
    "scrolled": true
   },
   "outputs": [
    {
     "name": "stdout",
     "output_type": "stream",
     "text": [
      "Action change: [ none --> stand ] || Robot: \n",
      "Action change: [ stand --> polish ] || Robot: \n",
      "Action change: [ polish --> stand ] || Robot: \n",
      "Action change: [ stand --> right ] || Robot: \n",
      "Action change: [ right --> stand ] || Robot: \n",
      "Action change: [ stand --> assembly ] || Robot: \n",
      "Action change: [ assembly --> stand ] || Robot: \n",
      "Action change: [ stand --> left ] || Robot: \n",
      "Action change: [ left --> stand ] || Robot: \n"
     ]
    }
   ],
   "source": [
    "from collections import Counter\n",
    "\n",
    "frames = len(context['action'])\n",
    "start_idx = 20\n",
    "window_size = 10\n",
    "last = \"none\"\n",
    "# right_action = \"\"\n",
    "for idx in range(start_idx + window_size, frames):\n",
    "    \n",
    "    actions = np.array(context['action'][idx-window_size:idx])\n",
    "    uncertainty = np.array(context['uncertainties'][idx-window_size:idx])\n",
    "#     print(actions)\n",
    "    \n",
    "    action_map = Counter(actions)\n",
    "#     print(action_map.most_common(1))\n",
    "    \n",
    "    selected = action_map.most_common(1)[0][0]\n",
    "    action_num = action_map.most_common(1)[0][1]\n",
    "    \n",
    "    if action_num >= 8:\n",
    "        action_idx = np.array([i for i, a in enumerate(actions) if a == selected])\n",
    "        \n",
    "        # 计算 uncertainty\n",
    "        mean = np.mean(uncertainty[action_idx])\n",
    "        if mean <= 0.1:            \n",
    "            if last != selected:\n",
    "                print(f\"Action change: [ {last} --> {selected} ] || Robot: \")\n",
    "                last = selected\n"
   ]
  },
  {
   "cell_type": "code",
   "execution_count": null,
   "id": "c87d3f0c",
   "metadata": {},
   "outputs": [],
   "source": []
  },
  {
   "cell_type": "code",
   "execution_count": 9,
   "id": "984f9b06",
   "metadata": {},
   "outputs": [
    {
     "data": {
      "image/png": "[encoded data removed]",
      "text/plain": [
       "<Figure size 400x400 with 1 Axes>"
      ]
     },
     "metadata": {},
     "output_type": "display_data"
    }
   ],
   "source": [
    "import numpy as np\n",
    "import pickle as pk\n",
    "import json\n",
    "import seaborn as sns\n",
    "import matplotlib.pyplot as plt\n",
    "\n",
    "iters = [\"A1\", \"A2\", \"A3\", \"A4\", \"A5\"]\n",
    "uncertainties = [0.8, 0.1, 0.05, 0.03, 0.02]\n",
    "\n",
    "plt.figure(figsize=(4, 4))\n",
    "sns.set(style=\"white\", font_scale=1.2)\n",
    "sns.set_color_codes(palette='bright')\n",
    "# plt.yscale('log')\n",
    "# plt.xticks([])\n",
    "plt.yticks([])\n",
    "# sns.despine(left=False, right=True, top=True, bottom=False)\n",
    "sns.despine(left=True, right=True, top=True, bottom=True)\n",
    "\n",
    "# 使用barplot绘制柱状图\n",
    "sns.barplot(x=iters, y=uncertainties, color=\"#0725F0\")\n",
    "\n",
    "plt.axhline(y=0, color='grey', linestyle='--')\n",
    "plt.axhline(y=0.5, color='grey', linestyle='--')\n",
    "plt.axhline(y=1, color='grey', linestyle='--')\n",
    "\n",
    "plt.savefig('/workspaces/pyskl/workspace/notebooks/one_action.svg', bbox_inches = 'tight')"
   ]
  },
  {
   "cell_type": "code",
   "execution_count": null,
   "id": "a34372bb",
   "metadata": {},
   "outputs": [],
   "source": []
  }
 ],
 "metadata": {
  "kernelspec": {
   "display_name": "Python 3 (ipykernel)",
   "language": "python",
   "name": "python3"
  },
  "language_info": {
   "codemirror_mode": {
    "name": "ipython",
    "version": 3
   },
   "file_extension": ".py",
   "mimetype": "text/x-python",
   "name": "python",
   "nbconvert_exporter": "python",
   "pygments_lexer": "ipython3",
   "version": "3.7.15"
  }
 },
 "nbformat": 4,
 "nbformat_minor": 5
}
