{
 "cells": [
  {
   "cell_type": "code",
   "execution_count": 1,
   "id": "15c1dfe9",
   "metadata": {},
   "outputs": [],
   "source": [
    "import torch\n",
    "from mmcv import load, dump\n",
    "from pyskl.smp import *\n",
    "from pyskl.models import build_model\n",
    "from time import time\n",
    "from tqdm import tqdm"
   ]
  },
  {
   "cell_type": "code",
   "execution_count": 2,
   "id": "ce194725",
   "metadata": {},
   "outputs": [],
   "source": [
    "layout = 'coco'\n",
    "graph = dict(layout=layout, mode='spatial')\n",
    "graph_rdm = dict(layout=layout, mode='random', num_filter=8, init_off=.04, init_std=.02)\n",
    "graph_bin = dict(layout=layout, mode='binary_adj')\n",
    "aagcn_cfg = dict(type='AAGCN', graph_cfg=graph)\n",
    "ctrgcn_cfg = dict(type='CTRGCN', graph_cfg=graph)\n",
    "dgstgcn_cfg = dict(type='DGSTGCN', gcn_ratio=0.125, gcn_ctr='T', gcn_ada='T', tcn_ms_cfg=[(3, 1), (3, 2), (3, 3), (3, 4), ('max', 3), '1x1'], graph_cfg=graph_rdm)\n",
    "msg3d_cfg = dict(type='MSG3D', graph_cfg=graph_bin)\n",
    "stgcn_cfg = dict(type='STGCN', graph_cfg=graph)\n",
    "stgcnpp_cfg = dict(type='STGCN', gcn_adaptive='init', gcn_with_res=True, tcn_type='mstcn', graph_cfg=graph)"
   ]
  },
  {
   "cell_type": "code",
   "execution_count": 58,
   "id": "f5a1cca1",
   "metadata": {},
   "outputs": [],
   "source": [
    "cfg_map = dict(stgcn=stgcn_cfg)"
   ]
  },
  {
   "cell_type": "code",
   "execution_count": 80,
   "id": "a64ad784",
   "metadata": {},
   "outputs": [],
   "source": [
    "batch = 1\n",
    "warmup = 10\n",
    "iters = 100\n",
    "num_joints = {'nturgb+d': 25, 'coco': 17, 'openpose': 18}[layout]\n",
    "num_person = 1\n",
    "seq_len = 1000"
   ]
  },
  {
   "cell_type": "code",
   "execution_count": 81,
   "id": "064dc3a3",
   "metadata": {},
   "outputs": [
    {
     "name": "stdout",
     "output_type": "stream",
     "text": [
      "stgcn FPS: 90.0179014042762\n"
     ]
    }
   ],
   "source": [
    "# Measure FPS with GPU\n",
    "device = 'cuda:0'\n",
    "for k, v in cfg_map.items():\n",
    "    gcn = build_model(v)\n",
    "    gcn = gcn.to(device)\n",
    "    gcn.eval()\n",
    "    start = 0\n",
    "    for i in range(warmup + iters):\n",
    "        if i == warmup:\n",
    "            start = time()\n",
    "        inp = torch.randn(batch, num_person, seq_len, num_joints, 3).to(device)\n",
    "        with torch.no_grad():\n",
    "            out = gcn(inp)\n",
    "    end = time()\n",
    "    # （推理次数 / 时间）表示1s进行多少次的预测\n",
    "    fps = (batch * iters) / (end - start)\n",
    "    print(f'{k} FPS: {fps}')"
   ]
  },
  {
   "cell_type": "code",
   "execution_count": null,
   "id": "9a04781d",
   "metadata": {},
   "outputs": [],
   "source": []
  }
 ],
 "metadata": {
  "kernelspec": {
   "display_name": "Python 3 (ipykernel)",
   "language": "python",
   "name": "python3"
  },
  "language_info": {
   "codemirror_mode": {
    "name": "ipython",
    "version": 3
   },
   "file_extension": ".py",
   "mimetype": "text/x-python",
   "name": "python",
   "nbconvert_exporter": "python",
   "pygments_lexer": "ipython3",
   "version": "3.7.15"
  }
 },
 "nbformat": 4,
 "nbformat_minor": 5
}
